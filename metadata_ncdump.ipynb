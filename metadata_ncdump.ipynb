{
 "cells": [
  {
   "cell_type": "code",
   "execution_count": 1,
   "id": "2c6d67a5-603f-4f26-ac97-83f853fcc7cb",
   "metadata": {},
   "outputs": [
    {
     "name": "stdout",
     "output_type": "stream",
     "text": [
      "/home_netapp/jupyter-lstephen/ESDP/ESDP1-Assignment2\n"
     ]
    }
   ],
   "source": [
    "!pwd"
   ]
  },
  {
   "cell_type": "code",
   "execution_count": 3,
   "id": "f000ef8c-f11e-4be4-b38c-18c95b0667e8",
   "metadata": {},
   "outputs": [],
   "source": [
    "## generate netcdf file from metadata txt file\n",
    "!ncgen -o ERA5_lake_bottom_temp_19880120.nc ERA5_lake_bottom_temp_19880120.txt"
   ]
  },
  {
   "cell_type": "code",
   "execution_count": 4,
   "id": "e8595ae3-ef50-4a79-bfa3-7eb1074dc0d6",
   "metadata": {},
   "outputs": [
    {
     "name": "stdout",
     "output_type": "stream",
     "text": [
      "netcdf ERA5_lake_bottom_temp_19880120 {\n",
      "dimensions:\n",
      "\tlongitude = 1440 ;\n",
      "\tlatitude = 721 ;\n",
      "\ttime = 24 ;\n",
      "variables:\n",
      "\tfloat longitude(longitude) ;\n",
      "\t\tlongitude:units = \"degrees_east\" ;\n",
      "\t\tlongitude:long_name = \"longitude\" ;\n",
      "\tfloat latitude(latitude) ;\n",
      "\t\tlatitude:units = \"degrees_north\" ;\n",
      "\t\tlatitude:long_name = \"latitude\" ;\n",
      "\tint time(time) ;\n",
      "\t\ttime:units = \"hours since 1900-01-01 00:00:00.0\" ;\n",
      "\t\ttime:long_name = \"time\" ;\n",
      "\t\ttime:calendar = \"gregorian\" ;\n",
      "\tshort lblt(time, latitude, longitude) ;\n",
      "\t\tlblt:scale_factor = 0.000505738759479957 ;\n",
      "\t\tlblt:add_offset = 289.73070416187 ;\n",
      "\t\tlblt:_FillValue = -32767s ;\n",
      "\t\tlblt:missing_value = -32767s ;\n",
      "\t\tlblt:units = \"K\" ;\n",
      "\t\tlblt:long_name = \"Lake bottom temperature\" ;\n",
      "\n",
      "// global attributes:\n",
      "\t\t:Conventions = \"CF-1.6\" ;\n",
      "\t\t:title = \"ERA5 Reanalysis lake bottom temperature for 1988-01-20\" ;\n",
      "\t\t:summary = \"Temperature of water at the bottom of inland water bodies (lakes, reservoirs, rivers) and coastal waters. ECMWF implemented a lake model in May 2015 to represent the water temperature and lake ice of all the world’s major inland water bodies in the Integrated Forecasting System. The model keeps lake depth and surface area (or fractional cover) constant in time. ERA5-Land is a reanalysis dataset providing a consistent view of the evolution of land variables over several decades at an enhanced resolution compared to ERA5. ERA5-Land has been produced by replaying the land component of the ECMWF ERA5 climate reanalysis. Reanalysis combines model data with observations from across the world into a globally complete and consistent dataset using the laws of physics. Reanalysis produces data that goes several decades back in time, providing an accurate description of the climate of the past.\" ;\n",
      "\t\t:data_type = \"Gridded\" ;\n",
      "\t\t:projection = \"Regular latitude-longitude grid\" ;\n",
      "\t\t:horizontal_coverage = \"Global\" ;\n",
      "\t\t:horizontal_resolution = \"0.1° x 0.1°; Native resolution is 9 km.\" ;\n",
      "\t\t:temporal_coverage = \"January 20th, 1988\" ;\n",
      "\t\t:temporal_resolution = \"Hourly\" ;\n",
      "\t\t:source = \"Copernicus Climate Change Service (C3S) Climate Data Store (CDS)\" ;\n",
      "\t\t:data_download_url = \"10.24381/cds.e2161bac\" ;\n",
      "\t\t:publication_date = \"2019-07-12\" ;\n",
      "\t\t:license = \"Licence to Use Copernicus Products (https://cds.climate.copernicus.eu/api/v2/terms/static/licence-to-use-copernicus-products.pdf)\" ;\n",
      "\t\t:history = \"2024-07-31 04:30:14 GMT by grib_to_netcdf-2.28.1: /opt/ecmwf/mars-client/bin/grib_to_netcdf -S param -o /cache/data8/adaptor.mars.internal-1722400214.2145498-3256-9-05d53f79-aac3-4bc0-bd28-35a251650ab9.nc /cache/tmp/05d53f79-aac3-4bc0-bd28-35a251650ab9-adaptor.mars.internal-1722400206.890052-3256-5-tmp.grib\" ;\n",
      "}\n"
     ]
    }
   ],
   "source": [
    "## show metadata of generated netcdf file\n",
    "!ncdump -h ERA5_lake_bottom_temp_19880120.nc"
   ]
  }
 ],
 "metadata": {
  "kernelspec": {
   "display_name": "python-311-esdp",
   "language": "python",
   "name": "python-311-esdp"
  },
  "language_info": {
   "codemirror_mode": {
    "name": "ipython",
    "version": 3
   },
   "file_extension": ".py",
   "mimetype": "text/x-python",
   "name": "python",
   "nbconvert_exporter": "python",
   "pygments_lexer": "ipython3",
   "version": "3.11.9"
  }
 },
 "nbformat": 4,
 "nbformat_minor": 5
}
